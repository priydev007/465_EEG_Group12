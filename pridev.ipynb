{
 "cells": [
  {
   "cell_type": "markdown",
   "metadata": {},
   "source": [
    "# EEG Project Group 12"
   ]
  },
  {
   "cell_type": "markdown",
   "metadata": {},
   "source": [
    "## Obtaining Data and Performing Preprocessing\n"
   ]
  },
  {
   "cell_type": "markdown",
   "metadata": {},
   "source": [
    "### Importing Required Libraries"
   ]
  },
  {
   "cell_type": "markdown",
   "metadata": {},
   "source": [
    "From here upto and including EEG Feature Extraction was taken from the sample example"
   ]
  },
  {
   "cell_type": "code",
   "execution_count": 3,
   "metadata": {},
   "outputs": [],
   "source": [
    "import numpy as np\n",
    "import matplotlib.pyplot as plt\n",
    "import pandas as pd\n",
    "import tensorflow as tf\n",
    "import tensorflow.keras as kr\n",
    "import seaborn as sns\n",
    "import os"
   ]
  },
  {
   "cell_type": "markdown",
   "metadata": {},
   "source": [
    "### Import the Dataset"
   ]
  },
  {
   "cell_type": "code",
   "execution_count": 4,
   "metadata": {},
   "outputs": [
    {
     "name": "stdout",
     "output_type": "stream",
     "text": [
      "/Users/ericl/Desktop/4th_Year/MANU 465/465_EEG_Group12\n",
      "                     TimeStamp  Delta_TP9  Delta_AF7  Delta_AF8  Delta_TP10  \\\n",
      "0      2024-11-21 02:13:15.650        NaN        NaN        NaN         NaN   \n",
      "1      2024-11-21 02:13:15.679   1.353651   0.868130    0.00000    0.705829   \n",
      "2      2024-11-21 02:13:15.680   1.353651   0.868130    0.00000    0.705829   \n",
      "3      2024-11-21 02:13:15.680   1.353651   0.868130    0.00000    0.705829   \n",
      "4      2024-11-21 02:13:15.680   1.353651   0.868130    0.00000    0.705829   \n",
      "...                        ...        ...        ...        ...         ...   \n",
      "41474  2024-11-21 02:15:57.433   1.713207   0.529574    0.83422    0.860527   \n",
      "41475  2024-11-21 02:15:57.433   1.713207   0.529574    0.83422    0.860527   \n",
      "41476  2024-11-21 02:15:57.433   1.713207   0.529574    0.83422    0.860527   \n",
      "41477  2024-11-21 02:15:57.434   1.713207   0.529574    0.83422    0.860527   \n",
      "41478  2024-11-21 02:15:57.434   1.713207   0.529574    0.83422    0.860527   \n",
      "\n",
      "       Theta_TP9  Theta_AF7  Theta_AF8  Theta_TP10  Alpha_TP9  ...    Gyro_X  \\\n",
      "0            NaN        NaN        NaN         NaN        NaN  ...       NaN   \n",
      "1       1.230388   0.541906   0.000000    0.483529   0.688970  ...  3.349609   \n",
      "2       1.230388   0.541906   0.000000    0.483529   0.688970  ...  3.349609   \n",
      "3       1.230388   0.541906   0.000000    0.483529   0.688970  ...  3.349609   \n",
      "4       1.230388   0.541906   0.000000    0.483529   0.688970  ...  3.349609   \n",
      "...          ...        ...        ...         ...        ...  ...       ...   \n",
      "41474   1.694208  -0.061052   0.705663    0.657951   1.625345  ... -6.123505   \n",
      "41475   1.694208  -0.061052   0.705663    0.657951   1.625345  ... -6.123505   \n",
      "41476   1.694208  -0.061052   0.705663    0.657951   1.625345  ... -6.123505   \n",
      "41477   1.694208  -0.061052   0.705663    0.657951   1.625345  ... -6.123505   \n",
      "41478   1.694208  -0.061052   0.705663    0.657951   1.625345  ... -6.123505   \n",
      "\n",
      "          Gyro_Y     Gyro_Z  HeadBandOn  HSI_TP9  HSI_AF7  HSI_AF8  HSI_TP10  \\\n",
      "0            NaN        NaN         NaN      NaN      NaN      NaN       NaN   \n",
      "1       1.271057  -0.687866         1.0      1.0      1.0      1.0       1.0   \n",
      "2       1.271057  -0.687866         1.0      1.0      1.0      1.0       1.0   \n",
      "3       1.271057  -0.687866         1.0      1.0      1.0      1.0       1.0   \n",
      "4       1.271057  -0.687866         1.0      1.0      1.0      1.0       1.0   \n",
      "...          ...        ...         ...      ...      ...      ...       ...   \n",
      "41474 -11.342316  12.949829         1.0      1.0      2.0      4.0       1.0   \n",
      "41475 -11.342316  12.949829         1.0      1.0      2.0      4.0       1.0   \n",
      "41476 -11.342316  12.949829         1.0      1.0      2.0      4.0       1.0   \n",
      "41477 -11.342316  12.949829         1.0      1.0      2.0      4.0       1.0   \n",
      "41478 -11.342316  12.949829         1.0      1.0      2.0      4.0       1.0   \n",
      "\n",
      "       Battery                         Elements  \n",
      "0          NaN  /muse/event/connected Muse-9E89  \n",
      "1         15.0                              NaN  \n",
      "2         15.0                              NaN  \n",
      "3         15.0                              NaN  \n",
      "4         15.0                              NaN  \n",
      "...        ...                              ...  \n",
      "41474     10.0                              NaN  \n",
      "41475     10.0                              NaN  \n",
      "41476     10.0                              NaN  \n",
      "41477     10.0                              NaN  \n",
      "41478     10.0                              NaN  \n",
      "\n",
      "[41479 rows x 39 columns]\n",
      "                     TimeStamp  Delta_TP9  Delta_AF7  Delta_AF8  Delta_TP10  \\\n",
      "0      2024-11-21 02:33:55.721        NaN        NaN        NaN         NaN   \n",
      "1      2024-11-21 02:33:55.747   0.639075   1.002148   1.338088    1.407827   \n",
      "2      2024-11-21 02:33:55.748   0.639075   1.002148   1.338088    1.407827   \n",
      "3      2024-11-21 02:33:55.748   0.639075   1.002148   1.338088    1.407827   \n",
      "4      2024-11-21 02:33:55.748   0.639075   1.002148   1.338088    1.407827   \n",
      "...                        ...        ...        ...        ...         ...   \n",
      "41287  2024-11-21 02:36:36.772  -0.092681   0.344325   0.202970    0.364843   \n",
      "41288  2024-11-21 02:36:36.773  -0.092681   0.344325   0.202970    0.364843   \n",
      "41289  2024-11-21 02:36:36.773  -0.092681   0.344325   0.202970    0.364843   \n",
      "41290  2024-11-21 02:36:36.773  -0.092681   0.344325   0.202970    0.364843   \n",
      "41291  2024-11-21 02:36:36.773  -0.092681   0.344325   0.202970    0.364843   \n",
      "\n",
      "       Theta_TP9  Theta_AF7  Theta_AF8  Theta_TP10  Alpha_TP9  ...    Gyro_X  \\\n",
      "0            NaN        NaN        NaN         NaN        NaN  ...       NaN   \n",
      "1       0.575536   0.651579   0.170934    1.208973   0.443622  ...  7.469330   \n",
      "2       0.575536   0.651579   0.170934    1.208973   0.443622  ...  7.469330   \n",
      "3       0.575536   0.651579   0.170934    1.208973   0.443622  ...  7.469330   \n",
      "4       0.575536   0.651579   0.170934    1.208973   0.443622  ...  7.469330   \n",
      "...          ...        ...        ...         ...        ...  ...       ...   \n",
      "41287   0.233187  -0.237916  -0.103932    0.106760   0.325772  ...  0.358887   \n",
      "41288   0.233187  -0.237916  -0.103932    0.106760   0.325772  ...  0.358887   \n",
      "41289   0.233187  -0.237916  -0.103932    0.106760   0.325772  ...  0.358887   \n",
      "41290   0.233187  -0.237916  -0.103932    0.106760   0.325772  ...  0.358887   \n",
      "41291   0.233187  -0.237916  -0.103932    0.106760   0.325772  ...  0.358887   \n",
      "\n",
      "         Gyro_Y    Gyro_Z  HeadBandOn  HSI_TP9  HSI_AF7  HSI_AF8  HSI_TP10  \\\n",
      "0           NaN       NaN         NaN      NaN      NaN      NaN       NaN   \n",
      "1      4.889832  3.095398         1.0      1.0      1.0      1.0       1.0   \n",
      "2      4.889832  3.095398         1.0      1.0      1.0      1.0       1.0   \n",
      "3      4.889832  3.095398         1.0      1.0      1.0      1.0       1.0   \n",
      "4      4.889832  3.095398         1.0      1.0      1.0      1.0       1.0   \n",
      "...         ...       ...         ...      ...      ...      ...       ...   \n",
      "41287 -0.037384  0.964508         1.0      2.0      1.0      1.0       2.0   \n",
      "41288 -0.037384  0.964508         1.0      2.0      1.0      1.0       2.0   \n",
      "41289 -0.037384  0.964508         1.0      2.0      1.0      1.0       2.0   \n",
      "41290 -0.037384  0.964508         1.0      2.0      1.0      1.0       2.0   \n",
      "41291 -0.037384  0.964508         1.0      2.0      1.0      1.0       2.0   \n",
      "\n",
      "       Battery                         Elements  \n",
      "0          NaN  /muse/event/connected Muse-9E89  \n",
      "1         20.0                              NaN  \n",
      "2         20.0                              NaN  \n",
      "3         20.0                              NaN  \n",
      "4         20.0                              NaN  \n",
      "...        ...                              ...  \n",
      "41287     15.0                              NaN  \n",
      "41288     15.0                              NaN  \n",
      "41289     15.0                              NaN  \n",
      "41290     15.0                              NaN  \n",
      "41291     15.0                              NaN  \n",
      "\n",
      "[41292 rows x 39 columns]\n",
      "CPU times: user 388 ms, sys: 54.2 ms, total: 442 ms\n",
      "Wall time: 455 ms\n"
     ]
    }
   ],
   "source": [
    "%%time\n",
    "#Get Current Working directory and append the data relative dir\n",
    "cwd = os.getcwd()\n",
    "print(cwd)\n",
    "Salt = cwd + r\"/data/salt\"\n",
    "Sour = cwd + r\"/data/sour\"\n",
    "\n",
    "#Hold file locations\n",
    "filesSour=[]\n",
    "filesSalt=[]; #add more later\n",
    "\n",
    "\n",
    "#populate file location arrays\n",
    "for file in os.listdir(Salt):\n",
    "    if file.endswith('csv'):\n",
    "        filesSalt.append(os.path.join(Salt,file))\n",
    "for file in os.listdir(Sour):\n",
    "    if file.endswith('csv'):\n",
    "        filesSour.append(os.path.join(Sour,file))\n",
    "#Test reading files by changing num\n",
    "\n",
    "num = 5;\n",
    "Salt_sample = pd.read_csv(filesSalt[num])\n",
    "Sour_sample =  pd.read_csv(filesSour[num])\n",
    "print(Salt_sample)\n",
    "print(Sour_sample)\n",
    "\n"
   ]
  },
  {
   "cell_type": "code",
   "execution_count": 5,
   "metadata": {},
   "outputs": [
    {
     "name": "stdout",
     "output_type": "stream",
     "text": [
      ">6 files were added from the Salty category\n"
     ]
    }
   ],
   "source": [
    "#Mini-Summary of Block\n",
    "#print(f\">{len(filesSpicy)} files were added from the Spicy category\")\n",
    "print(f\">{len(filesSalt)} files were added from the Salty category\")\n",
    "\n"
   ]
  },
  {
   "cell_type": "markdown",
   "metadata": {},
   "source": [
    "### Available Features"
   ]
  },
  {
   "cell_type": "code",
   "execution_count": 6,
   "metadata": {},
   "outputs": [
    {
     "name": "stdout",
     "output_type": "stream",
     "text": [
      "Features generated by the Muse 2 headband:\n"
     ]
    },
    {
     "data": {
      "text/html": [
       "<div>\n",
       "<style scoped>\n",
       "    .dataframe tbody tr th:only-of-type {\n",
       "        vertical-align: middle;\n",
       "    }\n",
       "\n",
       "    .dataframe tbody tr th {\n",
       "        vertical-align: top;\n",
       "    }\n",
       "\n",
       "    .dataframe thead th {\n",
       "        text-align: right;\n",
       "    }\n",
       "</style>\n",
       "<table border=\"1\" class=\"dataframe\">\n",
       "  <thead>\n",
       "    <tr style=\"text-align: right;\">\n",
       "      <th></th>\n",
       "      <th>0</th>\n",
       "      <th>1</th>\n",
       "      <th>2</th>\n",
       "      <th>3</th>\n",
       "      <th>4</th>\n",
       "      <th>5</th>\n",
       "      <th>6</th>\n",
       "      <th>7</th>\n",
       "      <th>8</th>\n",
       "      <th>9</th>\n",
       "      <th>...</th>\n",
       "      <th>29</th>\n",
       "      <th>30</th>\n",
       "      <th>31</th>\n",
       "      <th>32</th>\n",
       "      <th>33</th>\n",
       "      <th>34</th>\n",
       "      <th>35</th>\n",
       "      <th>36</th>\n",
       "      <th>37</th>\n",
       "      <th>38</th>\n",
       "    </tr>\n",
       "  </thead>\n",
       "  <tbody>\n",
       "    <tr>\n",
       "      <th>0</th>\n",
       "      <td>TimeStamp</td>\n",
       "      <td>Delta_TP9</td>\n",
       "      <td>Delta_AF7</td>\n",
       "      <td>Delta_AF8</td>\n",
       "      <td>Delta_TP10</td>\n",
       "      <td>Theta_TP9</td>\n",
       "      <td>Theta_AF7</td>\n",
       "      <td>Theta_AF8</td>\n",
       "      <td>Theta_TP10</td>\n",
       "      <td>Alpha_TP9</td>\n",
       "      <td>...</td>\n",
       "      <td>Gyro_X</td>\n",
       "      <td>Gyro_Y</td>\n",
       "      <td>Gyro_Z</td>\n",
       "      <td>HeadBandOn</td>\n",
       "      <td>HSI_TP9</td>\n",
       "      <td>HSI_AF7</td>\n",
       "      <td>HSI_AF8</td>\n",
       "      <td>HSI_TP10</td>\n",
       "      <td>Battery</td>\n",
       "      <td>Elements</td>\n",
       "    </tr>\n",
       "  </tbody>\n",
       "</table>\n",
       "<p>1 rows × 39 columns</p>\n",
       "</div>"
      ],
      "text/plain": [
       "          0          1          2          3           4          5   \\\n",
       "0  TimeStamp  Delta_TP9  Delta_AF7  Delta_AF8  Delta_TP10  Theta_TP9   \n",
       "\n",
       "          6          7           8          9   ...      29      30      31  \\\n",
       "0  Theta_AF7  Theta_AF8  Theta_TP10  Alpha_TP9  ...  Gyro_X  Gyro_Y  Gyro_Z   \n",
       "\n",
       "           32       33       34       35        36       37        38  \n",
       "0  HeadBandOn  HSI_TP9  HSI_AF7  HSI_AF8  HSI_TP10  Battery  Elements  \n",
       "\n",
       "[1 rows x 39 columns]"
      ]
     },
     "execution_count": 6,
     "metadata": {},
     "output_type": "execute_result"
    }
   ],
   "source": [
    "print(\"Features generated by the Muse 2 headband:\")\n",
    "pd.DataFrame(Salt_sample.columns).T"
   ]
  },
  {
   "cell_type": "markdown",
   "metadata": {},
   "source": [
    "### Creating the RAW Dataset"
   ]
  },
  {
   "cell_type": "code",
   "execution_count": 7,
   "metadata": {},
   "outputs": [
    {
     "ename": "KeyboardInterrupt",
     "evalue": "",
     "output_type": "error",
     "traceback": [
      "\u001b[0;31m---------------------------------------------------------------------------\u001b[0m",
      "\u001b[0;31mKeyboardInterrupt\u001b[0m                         Traceback (most recent call last)",
      "File \u001b[0;32m<timed exec>:10\u001b[0m\n",
      "File \u001b[0;32m/Library/Frameworks/Python.framework/Versions/3.12/lib/python3.12/site-packages/pandas/io/parsers/readers.py:1026\u001b[0m, in \u001b[0;36mread_csv\u001b[0;34m(filepath_or_buffer, sep, delimiter, header, names, index_col, usecols, dtype, engine, converters, true_values, false_values, skipinitialspace, skiprows, skipfooter, nrows, na_values, keep_default_na, na_filter, verbose, skip_blank_lines, parse_dates, infer_datetime_format, keep_date_col, date_parser, date_format, dayfirst, cache_dates, iterator, chunksize, compression, thousands, decimal, lineterminator, quotechar, quoting, doublequote, escapechar, comment, encoding, encoding_errors, dialect, on_bad_lines, delim_whitespace, low_memory, memory_map, float_precision, storage_options, dtype_backend)\u001b[0m\n\u001b[1;32m   1013\u001b[0m kwds_defaults \u001b[38;5;241m=\u001b[39m _refine_defaults_read(\n\u001b[1;32m   1014\u001b[0m     dialect,\n\u001b[1;32m   1015\u001b[0m     delimiter,\n\u001b[0;32m   (...)\u001b[0m\n\u001b[1;32m   1022\u001b[0m     dtype_backend\u001b[38;5;241m=\u001b[39mdtype_backend,\n\u001b[1;32m   1023\u001b[0m )\n\u001b[1;32m   1024\u001b[0m kwds\u001b[38;5;241m.\u001b[39mupdate(kwds_defaults)\n\u001b[0;32m-> 1026\u001b[0m \u001b[38;5;28;01mreturn\u001b[39;00m \u001b[43m_read\u001b[49m\u001b[43m(\u001b[49m\u001b[43mfilepath_or_buffer\u001b[49m\u001b[43m,\u001b[49m\u001b[43m \u001b[49m\u001b[43mkwds\u001b[49m\u001b[43m)\u001b[49m\n",
      "File \u001b[0;32m/Library/Frameworks/Python.framework/Versions/3.12/lib/python3.12/site-packages/pandas/io/parsers/readers.py:626\u001b[0m, in \u001b[0;36m_read\u001b[0;34m(filepath_or_buffer, kwds)\u001b[0m\n\u001b[1;32m    623\u001b[0m     \u001b[38;5;28;01mreturn\u001b[39;00m parser\n\u001b[1;32m    625\u001b[0m \u001b[38;5;28;01mwith\u001b[39;00m parser:\n\u001b[0;32m--> 626\u001b[0m     \u001b[38;5;28;01mreturn\u001b[39;00m \u001b[43mparser\u001b[49m\u001b[38;5;241;43m.\u001b[39;49m\u001b[43mread\u001b[49m\u001b[43m(\u001b[49m\u001b[43mnrows\u001b[49m\u001b[43m)\u001b[49m\n",
      "File \u001b[0;32m/Library/Frameworks/Python.framework/Versions/3.12/lib/python3.12/site-packages/pandas/io/parsers/readers.py:1923\u001b[0m, in \u001b[0;36mTextFileReader.read\u001b[0;34m(self, nrows)\u001b[0m\n\u001b[1;32m   1916\u001b[0m nrows \u001b[38;5;241m=\u001b[39m validate_integer(\u001b[38;5;124m\"\u001b[39m\u001b[38;5;124mnrows\u001b[39m\u001b[38;5;124m\"\u001b[39m, nrows)\n\u001b[1;32m   1917\u001b[0m \u001b[38;5;28;01mtry\u001b[39;00m:\n\u001b[1;32m   1918\u001b[0m     \u001b[38;5;66;03m# error: \"ParserBase\" has no attribute \"read\"\u001b[39;00m\n\u001b[1;32m   1919\u001b[0m     (\n\u001b[1;32m   1920\u001b[0m         index,\n\u001b[1;32m   1921\u001b[0m         columns,\n\u001b[1;32m   1922\u001b[0m         col_dict,\n\u001b[0;32m-> 1923\u001b[0m     ) \u001b[38;5;241m=\u001b[39m \u001b[38;5;28;43mself\u001b[39;49m\u001b[38;5;241;43m.\u001b[39;49m\u001b[43m_engine\u001b[49m\u001b[38;5;241;43m.\u001b[39;49m\u001b[43mread\u001b[49m\u001b[43m(\u001b[49m\u001b[43m  \u001b[49m\u001b[38;5;66;43;03m# type: ignore[attr-defined]\u001b[39;49;00m\n\u001b[1;32m   1924\u001b[0m \u001b[43m        \u001b[49m\u001b[43mnrows\u001b[49m\n\u001b[1;32m   1925\u001b[0m \u001b[43m    \u001b[49m\u001b[43m)\u001b[49m\n\u001b[1;32m   1926\u001b[0m \u001b[38;5;28;01mexcept\u001b[39;00m \u001b[38;5;167;01mException\u001b[39;00m:\n\u001b[1;32m   1927\u001b[0m     \u001b[38;5;28mself\u001b[39m\u001b[38;5;241m.\u001b[39mclose()\n",
      "File \u001b[0;32m/Library/Frameworks/Python.framework/Versions/3.12/lib/python3.12/site-packages/pandas/io/parsers/c_parser_wrapper.py:234\u001b[0m, in \u001b[0;36mCParserWrapper.read\u001b[0;34m(self, nrows)\u001b[0m\n\u001b[1;32m    232\u001b[0m \u001b[38;5;28;01mtry\u001b[39;00m:\n\u001b[1;32m    233\u001b[0m     \u001b[38;5;28;01mif\u001b[39;00m \u001b[38;5;28mself\u001b[39m\u001b[38;5;241m.\u001b[39mlow_memory:\n\u001b[0;32m--> 234\u001b[0m         chunks \u001b[38;5;241m=\u001b[39m \u001b[38;5;28;43mself\u001b[39;49m\u001b[38;5;241;43m.\u001b[39;49m\u001b[43m_reader\u001b[49m\u001b[38;5;241;43m.\u001b[39;49m\u001b[43mread_low_memory\u001b[49m\u001b[43m(\u001b[49m\u001b[43mnrows\u001b[49m\u001b[43m)\u001b[49m\n\u001b[1;32m    235\u001b[0m         \u001b[38;5;66;03m# destructive to chunks\u001b[39;00m\n\u001b[1;32m    236\u001b[0m         data \u001b[38;5;241m=\u001b[39m _concatenate_chunks(chunks)\n",
      "File \u001b[0;32mparsers.pyx:838\u001b[0m, in \u001b[0;36mpandas._libs.parsers.TextReader.read_low_memory\u001b[0;34m()\u001b[0m\n",
      "File \u001b[0;32mparsers.pyx:921\u001b[0m, in \u001b[0;36mpandas._libs.parsers.TextReader._read_rows\u001b[0;34m()\u001b[0m\n",
      "File \u001b[0;32mparsers.pyx:1083\u001b[0m, in \u001b[0;36mpandas._libs.parsers.TextReader._convert_column_data\u001b[0;34m()\u001b[0m\n",
      "File \u001b[0;32mparsers.pyx:1456\u001b[0m, in \u001b[0;36mpandas._libs.parsers._maybe_upcast\u001b[0;34m()\u001b[0m\n",
      "File \u001b[0;32m/Library/Frameworks/Python.framework/Versions/3.12/lib/python3.12/site-packages/numpy/core/multiarray.py:1131\u001b[0m, in \u001b[0;36mputmask\u001b[0;34m(a, mask, values)\u001b[0m\n\u001b[1;32m   1082\u001b[0m \u001b[38;5;250m    \u001b[39m\u001b[38;5;124;03m\"\"\"\u001b[39;00m\n\u001b[1;32m   1083\u001b[0m \u001b[38;5;124;03m    copyto(dst, src, casting='same_kind', where=True)\u001b[39;00m\n\u001b[1;32m   1084\u001b[0m \n\u001b[0;32m   (...)\u001b[0m\n\u001b[1;32m   1126\u001b[0m \n\u001b[1;32m   1127\u001b[0m \u001b[38;5;124;03m    \"\"\"\u001b[39;00m\n\u001b[1;32m   1128\u001b[0m     \u001b[38;5;28;01mreturn\u001b[39;00m (dst, src, where)\n\u001b[0;32m-> 1131\u001b[0m \u001b[38;5;129m@array_function_from_c_func_and_dispatcher\u001b[39m(_multiarray_umath\u001b[38;5;241m.\u001b[39mputmask)\n\u001b[1;32m   1132\u001b[0m \u001b[38;5;28;01mdef\u001b[39;00m \u001b[38;5;21mputmask\u001b[39m(a, \u001b[38;5;241m/\u001b[39m, mask, values):\n\u001b[1;32m   1133\u001b[0m \u001b[38;5;250m    \u001b[39m\u001b[38;5;124;03m\"\"\"\u001b[39;00m\n\u001b[1;32m   1134\u001b[0m \u001b[38;5;124;03m    putmask(a, mask, values)\u001b[39;00m\n\u001b[1;32m   1135\u001b[0m \n\u001b[0;32m   (...)\u001b[0m\n\u001b[1;32m   1171\u001b[0m \n\u001b[1;32m   1172\u001b[0m \u001b[38;5;124;03m    \"\"\"\u001b[39;00m\n\u001b[1;32m   1173\u001b[0m     \u001b[38;5;28;01mreturn\u001b[39;00m (a, mask, values)\n",
      "\u001b[0;31mKeyboardInterrupt\u001b[0m: "
     ]
    }
   ],
   "source": [
    "%%time\n",
    "#Extract rows 21-25 from all files,\n",
    "#these are the only 5 features relevant for use in the EEG_feature_extraction function\n",
    "#rowsSpicy=[];\n",
    "#for f in filesSpicy:\n",
    " #   for r in range(pd.read_csv(f).shape[0]):\n",
    " #       rowsSpicy.append(pd.read_csv(f).iloc[r,[0,21,22,23,24,25]])\n",
    "rowsSalty=[];\n",
    "for f in filesSalt:\n",
    "    for r in range(pd.read_csv(f).shape[0]):\n",
    "        rowsSalty.append(pd.read_csv(f).iloc[r,[0,21,22,23,24,25]])\n"
   ]
  },
  {
   "cell_type": "code",
   "execution_count": 10,
   "metadata": {},
   "outputs": [],
   "source": [
    "rowsSalty = []\n",
    "\n",
    "for f in filesSalt:\n",
    "    df = pd.read_csv(f)  # Read the file once\n",
    "    rowsSalty.extend(df.iloc[:, [0, 21, 22, 23, 24, 25]].values.tolist())\n"
   ]
  },
  {
   "cell_type": "code",
   "execution_count": 9,
   "metadata": {},
   "outputs": [
    {
     "ename": "NameError",
     "evalue": "name 'rowsSpicy' is not defined",
     "output_type": "error",
     "traceback": [
      "\u001b[0;31m---------------------------------------------------------------------------\u001b[0m",
      "\u001b[0;31mNameError\u001b[0m                                 Traceback (most recent call last)",
      "Cell \u001b[0;32mIn[9], line 2\u001b[0m\n\u001b[1;32m      1\u001b[0m \u001b[38;5;66;03m#Convert to DataFrames\u001b[39;00m\n\u001b[0;32m----> 2\u001b[0m data_Spicy \u001b[38;5;241m=\u001b[39m pd\u001b[38;5;241m.\u001b[39mDataFrame(\u001b[43mrowsSpicy\u001b[49m);\n\u001b[1;32m      3\u001b[0m original_Spicy \u001b[38;5;241m=\u001b[39m data_Spicy\u001b[38;5;241m.\u001b[39mcopy();\n\u001b[1;32m      4\u001b[0m data_Spicy\n",
      "\u001b[0;31mNameError\u001b[0m: name 'rowsSpicy' is not defined"
     ]
    }
   ],
   "source": [
    "#Convert to DataFrames\n",
    "data_Spicy = pd.DataFrame(rowsSpicy);\n",
    "original_Spicy = data_Spicy.copy();\n",
    "data_Spicy"
   ]
  },
  {
   "cell_type": "code",
   "execution_count": 11,
   "metadata": {},
   "outputs": [
    {
     "data": {
      "text/html": [
       "<div>\n",
       "<style scoped>\n",
       "    .dataframe tbody tr th:only-of-type {\n",
       "        vertical-align: middle;\n",
       "    }\n",
       "\n",
       "    .dataframe tbody tr th {\n",
       "        vertical-align: top;\n",
       "    }\n",
       "\n",
       "    .dataframe thead th {\n",
       "        text-align: right;\n",
       "    }\n",
       "</style>\n",
       "<table border=\"1\" class=\"dataframe\">\n",
       "  <thead>\n",
       "    <tr style=\"text-align: right;\">\n",
       "      <th></th>\n",
       "      <th>0</th>\n",
       "      <th>1</th>\n",
       "      <th>2</th>\n",
       "      <th>3</th>\n",
       "      <th>4</th>\n",
       "      <th>5</th>\n",
       "    </tr>\n",
       "  </thead>\n",
       "  <tbody>\n",
       "    <tr>\n",
       "      <th>0</th>\n",
       "      <td>2024-11-21 14:04:16.799</td>\n",
       "      <td>NaN</td>\n",
       "      <td>NaN</td>\n",
       "      <td>NaN</td>\n",
       "      <td>NaN</td>\n",
       "      <td>NaN</td>\n",
       "    </tr>\n",
       "    <tr>\n",
       "      <th>1</th>\n",
       "      <td>2024-11-21 14:04:16.829</td>\n",
       "      <td>851.391941</td>\n",
       "      <td>811.904762</td>\n",
       "      <td>801.831502</td>\n",
       "      <td>814.322344</td>\n",
       "      <td>807.069597</td>\n",
       "    </tr>\n",
       "    <tr>\n",
       "      <th>2</th>\n",
       "      <td>2024-11-21 14:04:16.829</td>\n",
       "      <td>861.465201</td>\n",
       "      <td>805.860806</td>\n",
       "      <td>809.084249</td>\n",
       "      <td>844.139194</td>\n",
       "      <td>923.113553</td>\n",
       "    </tr>\n",
       "    <tr>\n",
       "      <th>3</th>\n",
       "      <td>2024-11-21 14:04:16.829</td>\n",
       "      <td>833.663004</td>\n",
       "      <td>807.875458</td>\n",
       "      <td>805.457875</td>\n",
       "      <td>816.336996</td>\n",
       "      <td>799.010989</td>\n",
       "    </tr>\n",
       "    <tr>\n",
       "      <th>4</th>\n",
       "      <td>2024-11-21 14:04:16.830</td>\n",
       "      <td>815.531136</td>\n",
       "      <td>808.681319</td>\n",
       "      <td>804.249084</td>\n",
       "      <td>782.893773</td>\n",
       "      <td>715.201465</td>\n",
       "    </tr>\n",
       "    <tr>\n",
       "      <th>...</th>\n",
       "      <td>...</td>\n",
       "      <td>...</td>\n",
       "      <td>...</td>\n",
       "      <td>...</td>\n",
       "      <td>...</td>\n",
       "      <td>...</td>\n",
       "    </tr>\n",
       "    <tr>\n",
       "      <th>191587</th>\n",
       "      <td>2024-11-21 02:15:57.433</td>\n",
       "      <td>988.388278</td>\n",
       "      <td>1190.659341</td>\n",
       "      <td>747.838828</td>\n",
       "      <td>947.289377</td>\n",
       "      <td>1060.512821</td>\n",
       "    </tr>\n",
       "    <tr>\n",
       "      <th>191588</th>\n",
       "      <td>2024-11-21 02:15:57.433</td>\n",
       "      <td>1005.714286</td>\n",
       "      <td>1630.256410</td>\n",
       "      <td>921.904762</td>\n",
       "      <td>975.091575</td>\n",
       "      <td>654.761905</td>\n",
       "    </tr>\n",
       "    <tr>\n",
       "      <th>191589</th>\n",
       "      <td>2024-11-21 02:15:57.433</td>\n",
       "      <td>1042.783883</td>\n",
       "      <td>1631.062271</td>\n",
       "      <td>732.930403</td>\n",
       "      <td>1074.615385</td>\n",
       "      <td>704.725275</td>\n",
       "    </tr>\n",
       "    <tr>\n",
       "      <th>191590</th>\n",
       "      <td>2024-11-21 02:15:57.434</td>\n",
       "      <td>1035.531136</td>\n",
       "      <td>1607.692308</td>\n",
       "      <td>658.791209</td>\n",
       "      <td>1066.556777</td>\n",
       "      <td>941.245421</td>\n",
       "    </tr>\n",
       "    <tr>\n",
       "      <th>191591</th>\n",
       "      <td>2024-11-21 02:15:57.434</td>\n",
       "      <td>1000.476190</td>\n",
       "      <td>1616.556777</td>\n",
       "      <td>721.648352</td>\n",
       "      <td>976.300366</td>\n",
       "      <td>824.395604</td>\n",
       "    </tr>\n",
       "  </tbody>\n",
       "</table>\n",
       "<p>191592 rows × 6 columns</p>\n",
       "</div>"
      ],
      "text/plain": [
       "                              0            1            2           3  \\\n",
       "0       2024-11-21 14:04:16.799          NaN          NaN         NaN   \n",
       "1       2024-11-21 14:04:16.829   851.391941   811.904762  801.831502   \n",
       "2       2024-11-21 14:04:16.829   861.465201   805.860806  809.084249   \n",
       "3       2024-11-21 14:04:16.829   833.663004   807.875458  805.457875   \n",
       "4       2024-11-21 14:04:16.830   815.531136   808.681319  804.249084   \n",
       "...                         ...          ...          ...         ...   \n",
       "191587  2024-11-21 02:15:57.433   988.388278  1190.659341  747.838828   \n",
       "191588  2024-11-21 02:15:57.433  1005.714286  1630.256410  921.904762   \n",
       "191589  2024-11-21 02:15:57.433  1042.783883  1631.062271  732.930403   \n",
       "191590  2024-11-21 02:15:57.434  1035.531136  1607.692308  658.791209   \n",
       "191591  2024-11-21 02:15:57.434  1000.476190  1616.556777  721.648352   \n",
       "\n",
       "                  4            5  \n",
       "0               NaN          NaN  \n",
       "1        814.322344   807.069597  \n",
       "2        844.139194   923.113553  \n",
       "3        816.336996   799.010989  \n",
       "4        782.893773   715.201465  \n",
       "...             ...          ...  \n",
       "191587   947.289377  1060.512821  \n",
       "191588   975.091575   654.761905  \n",
       "191589  1074.615385   704.725275  \n",
       "191590  1066.556777   941.245421  \n",
       "191591   976.300366   824.395604  \n",
       "\n",
       "[191592 rows x 6 columns]"
      ]
     },
     "execution_count": 11,
     "metadata": {},
     "output_type": "execute_result"
    }
   ],
   "source": [
    "#Convert to DataFrames\n",
    "data_Salty = pd.DataFrame(rowsSalty);\n",
    "original_Salty = data_Salty.copy();\n",
    "data_Salty"
   ]
  },
  {
   "cell_type": "code",
   "execution_count": null,
   "metadata": {},
   "outputs": [
    {
     "name": "stdout",
     "output_type": "stream",
     "text": [
      "\n",
      "Salty data size is: \t(191592, 6)\n"
     ]
    }
   ],
   "source": [
    "#quick check of DataFrames\n",
    "#print(f\"Spicy data size is: \\t{data_Spicy.shape}\",f\"\\nSalty data size is: \\t{data_Salty.shape}\")\n",
    "print(f\"\\nSalty data size is: \\t{data_Salty.shape}\")"
   ]
  },
  {
   "cell_type": "markdown",
   "metadata": {},
   "source": [
    "### Remove Empty Rows"
   ]
  },
  {
   "cell_type": "code",
   "execution_count": null,
   "metadata": {},
   "outputs": [],
   "source": [
    "#Remove NaN values\n",
    "#data_Spicy = data_Spicy.dropna()\n",
    "data_Salty = data_Salty.dropna()"
   ]
  },
  {
   "cell_type": "markdown",
   "metadata": {},
   "source": [
    "### Convert Datetime Column to Timestamps"
   ]
  },
  {
   "cell_type": "code",
   "execution_count": null,
   "metadata": {},
   "outputs": [],
   "source": [
    "#Required for compatibility with EEG_feature_extraction function\n",
    "from datetime import datetime\n",
    "\"\"\"\n",
    "    i = 0;\n",
    "    for time in data_Spicy.iloc[:,0]:\n",
    "        tmstmp = datetime.strptime(str(time),'%Y-%m-%d %H:%M:%S.%f').timestamp()\n",
    "        data_Spicy.iat[i,0] = (tmstmp);\n",
    "    i=i+1;\n",
    "\"\"\"\n",
    "i = 0;\n",
    "for time in data_Salty.iloc[:,0]:\n",
    "    tmstmp = datetime.strptime(str(time),'%Y-%m-%d %H:%M:%S.%f').timestamp()\n",
    "    data_Salty.iat[i,0] = (tmstmp);\n",
    "i=i+1;\n"
   ]
  },
  {
   "cell_type": "code",
   "execution_count": null,
   "metadata": {},
   "outputs": [
    {
     "data": {
      "text/html": [
       "<div>\n",
       "<style scoped>\n",
       "    .dataframe tbody tr th:only-of-type {\n",
       "        vertical-align: middle;\n",
       "    }\n",
       "\n",
       "    .dataframe tbody tr th {\n",
       "        vertical-align: top;\n",
       "    }\n",
       "\n",
       "    .dataframe thead th {\n",
       "        text-align: right;\n",
       "    }\n",
       "</style>\n",
       "<table border=\"1\" class=\"dataframe\">\n",
       "  <thead>\n",
       "    <tr style=\"text-align: right;\">\n",
       "      <th></th>\n",
       "    </tr>\n",
       "  </thead>\n",
       "  <tbody>\n",
       "  </tbody>\n",
       "</table>\n",
       "</div>"
      ],
      "text/plain": [
       "Empty DataFrame\n",
       "Columns: []\n",
       "Index: []"
      ]
     },
     "execution_count": 51,
     "metadata": {},
     "output_type": "execute_result"
    }
   ],
   "source": [
    "#Quick Check\n",
    "data_Spicy.head()"
   ]
  },
  {
   "cell_type": "markdown",
   "metadata": {},
   "source": [
    "### Save Data to File"
   ]
  },
  {
   "cell_type": "markdown",
   "metadata": {},
   "source": [
    "Alternative STARTING POINT once data collection is finalized. This step was done to bypass having to run the previous section each time which would take a very long time."
   ]
  },
  {
   "cell_type": "code",
   "execution_count": null,
   "metadata": {},
   "outputs": [
    {
     "ename": "PermissionError",
     "evalue": "[WinError 5] Access is denied: 'C:\\\\Users\\\\priyd\\\\Downloads\\\\465_EEG_Group12\\\\data'",
     "output_type": "error",
     "traceback": [
      "\u001b[1;31m---------------------------------------------------------------------------\u001b[0m",
      "\u001b[1;31mPermissionError\u001b[0m                           Traceback (most recent call last)",
      "Cell \u001b[1;32mIn[65], line 7\u001b[0m\n\u001b[0;32m      4\u001b[0m \u001b[38;5;66;03m#if os.path.exists(savelocSpicy):\u001b[39;00m\n\u001b[0;32m      5\u001b[0m \u001b[38;5;66;03m#    os.remove(savelocSpicy)\u001b[39;00m\n\u001b[0;32m      6\u001b[0m \u001b[38;5;28;01mif\u001b[39;00m os\u001b[38;5;241m.\u001b[39mpath\u001b[38;5;241m.\u001b[39mexists(savelocSalty):\n\u001b[1;32m----> 7\u001b[0m     \u001b[43mos\u001b[49m\u001b[38;5;241;43m.\u001b[39;49m\u001b[43mremove\u001b[49m\u001b[43m(\u001b[49m\u001b[43msavelocSalty\u001b[49m\u001b[43m)\u001b[49m\n\u001b[0;32m      8\u001b[0m \u001b[38;5;66;03m#data_Spicy.to_csv(savelocSpicy, mode='w', index = False)\u001b[39;00m\n\u001b[0;32m      9\u001b[0m data_Salty\u001b[38;5;241m.\u001b[39mto_csv(savelocSalty, mode\u001b[38;5;241m=\u001b[39m\u001b[38;5;124m'\u001b[39m\u001b[38;5;124mw\u001b[39m\u001b[38;5;124m'\u001b[39m, index \u001b[38;5;241m=\u001b[39m \u001b[38;5;28;01mFalse\u001b[39;00m)\n",
      "\u001b[1;31mPermissionError\u001b[0m: [WinError 5] Access is denied: 'C:\\\\Users\\\\priyd\\\\Downloads\\\\465_EEG_Group12\\\\data'"
     ]
    }
   ],
   "source": [
    "#savelocSpicy = cwd + r\"\\Data\\Preprocessed\\Spicy.csv\"\n",
    "savelocSalty =  r'C:\\Users\\priyd\\Downloads\\465_EEG_Group12\\data'\n",
    "\n",
    "#if os.path.exists(savelocSpicy):\n",
    "#    os.remove(savelocSpicy)\n",
    "if os.path.exists(savelocSalty):\n",
    "    os.remove(savelocSalty)\n",
    "#data_Spicy.to_csv(savelocSpicy, mode='w', index = False)\n",
    "data_Salty.to_csv(savelocSalty, mode='w', index = False)\n",
    "\n",
    "\n"
   ]
  },
  {
   "cell_type": "markdown",
   "metadata": {},
   "source": [
    "### EEG Feature Generation"
   ]
  },
  {
   "cell_type": "code",
   "execution_count": null,
   "metadata": {},
   "outputs": [],
   "source": [
    "from eegFG import EEG_feature_extraction as FG\n",
    "\n",
    "#try various combinations of Nsamp and Perio\n",
    "Nsamp = 50;\n",
    "Perio = 6;\n",
    "\n",
    "xSpicy,ySpicy = FG.generate_feature_vectors_from_samples(file_path=savelocSpicy,\n",
    "                                                         nsamples=Nsamp,\n",
    "                                                         period=Perio,\n",
    "                                                         #state=data_Spicy.iloc[:,-1],\n",
    "                                                         slide_percent=0.05,\n",
    "                                                         remove_redundant=False,\n",
    "                                                         cols_to_ignore=None)\n",
    "xSpicy.shape\n"
   ]
  },
  {
   "cell_type": "code",
   "execution_count": null,
   "metadata": {},
   "outputs": [],
   "source": [
    "#try various combinations of Nsamp and Perio\n",
    "Nsamp = 50;\n",
    "Perio = 5;\n",
    "\n",
    "xSalty,ySalty = FG.generate_feature_vectors_from_samples(file_path=savelocSalty,\n",
    "                                                         nsamples=Nsamp,\n",
    "                                                         period=Perio,\n",
    "                                                         #state=data_Salty.iloc[:,-1],\n",
    "                                                         slide_percent=0.06,\n",
    "                                                         remove_redundant=False,\n",
    "                                                         cols_to_ignore=None)\n",
    "xSalty.shape"
   ]
  },
  {
   "cell_type": "code",
   "execution_count": null,
   "metadata": {},
   "outputs": [],
   "source": [
    "#some quick checks\n",
    "X_Spicy = pd.DataFrame(np.real(xSpicy))\n",
    "X_Spicy.columns = np.hstack((['Timestamp'],ySpicy))\n",
    "X_Spicy.describe()"
   ]
  },
  {
   "cell_type": "code",
   "execution_count": null,
   "metadata": {},
   "outputs": [],
   "source": [
    "with pd.option_context('display.max_rows',None,'display.max_columns',None):\n",
    "    display(pd.DataFrame(pd.DataFrame(X_Spicy).head()))"
   ]
  },
  {
   "cell_type": "code",
   "execution_count": null,
   "metadata": {},
   "outputs": [],
   "source": [
    "X_Salty = pd.DataFrame(np.real(xSalty))\n",
    "X_Salty.columns = np.hstack((['Timestamp'],ySalty))\n",
    "X_Salty.describe()"
   ]
  },
  {
   "cell_type": "markdown",
   "metadata": {},
   "source": [
    "### Analyze the Dataset"
   ]
  },
  {
   "cell_type": "code",
   "execution_count": null,
   "metadata": {},
   "outputs": [],
   "source": []
  },
  {
   "cell_type": "markdown",
   "metadata": {},
   "source": [
    "### Separate Into Input and Output"
   ]
  },
  {
   "cell_type": "code",
   "execution_count": null,
   "metadata": {},
   "outputs": [],
   "source": []
  },
  {
   "cell_type": "markdown",
   "metadata": {},
   "source": [
    "### Encoding the Input"
   ]
  },
  {
   "cell_type": "code",
   "execution_count": null,
   "metadata": {},
   "outputs": [],
   "source": []
  },
  {
   "cell_type": "markdown",
   "metadata": {},
   "source": [
    "### Encoding the Output"
   ]
  },
  {
   "cell_type": "code",
   "execution_count": null,
   "metadata": {},
   "outputs": [],
   "source": []
  },
  {
   "cell_type": "markdown",
   "metadata": {},
   "source": [
    "### Split into Test and Train"
   ]
  },
  {
   "cell_type": "code",
   "execution_count": null,
   "metadata": {},
   "outputs": [],
   "source": []
  },
  {
   "cell_type": "markdown",
   "metadata": {},
   "source": [
    "### Feature Scaling"
   ]
  },
  {
   "cell_type": "code",
   "execution_count": null,
   "metadata": {},
   "outputs": [],
   "source": []
  },
  {
   "cell_type": "markdown",
   "metadata": {},
   "source": [
    "## Random Forest and SVM"
   ]
  },
  {
   "cell_type": "markdown",
   "metadata": {},
   "source": [
    "### Importing the Models"
   ]
  },
  {
   "cell_type": "code",
   "execution_count": null,
   "metadata": {},
   "outputs": [],
   "source": []
  },
  {
   "cell_type": "markdown",
   "metadata": {},
   "source": [
    "### Train and Evaluate the Models"
   ]
  },
  {
   "cell_type": "code",
   "execution_count": null,
   "metadata": {},
   "outputs": [],
   "source": []
  },
  {
   "cell_type": "markdown",
   "metadata": {},
   "source": [
    "## ANN"
   ]
  },
  {
   "cell_type": "markdown",
   "metadata": {},
   "source": [
    "### Initialize the ANN"
   ]
  },
  {
   "cell_type": "code",
   "execution_count": null,
   "metadata": {},
   "outputs": [],
   "source": []
  },
  {
   "cell_type": "markdown",
   "metadata": {},
   "source": [
    "### Adding the Input Layer"
   ]
  },
  {
   "cell_type": "code",
   "execution_count": null,
   "metadata": {},
   "outputs": [],
   "source": []
  },
  {
   "cell_type": "markdown",
   "metadata": {},
   "source": [
    "### Adding the Hidden Layers"
   ]
  },
  {
   "cell_type": "code",
   "execution_count": null,
   "metadata": {},
   "outputs": [],
   "source": []
  },
  {
   "cell_type": "markdown",
   "metadata": {},
   "source": [
    "### Adding the Output Layer"
   ]
  },
  {
   "cell_type": "code",
   "execution_count": null,
   "metadata": {},
   "outputs": [],
   "source": []
  },
  {
   "cell_type": "markdown",
   "metadata": {},
   "source": [
    "### Compiling the ANN"
   ]
  },
  {
   "cell_type": "code",
   "execution_count": null,
   "metadata": {},
   "outputs": [],
   "source": []
  },
  {
   "cell_type": "markdown",
   "metadata": {},
   "source": [
    "### Training the ANN"
   ]
  },
  {
   "cell_type": "code",
   "execution_count": null,
   "metadata": {},
   "outputs": [],
   "source": []
  },
  {
   "cell_type": "markdown",
   "metadata": {},
   "source": [
    "### Visualization of Validation"
   ]
  },
  {
   "cell_type": "code",
   "execution_count": null,
   "metadata": {},
   "outputs": [],
   "source": []
  },
  {
   "cell_type": "markdown",
   "metadata": {},
   "source": [
    "### Using the Model to Predict"
   ]
  },
  {
   "cell_type": "code",
   "execution_count": null,
   "metadata": {},
   "outputs": [],
   "source": []
  },
  {
   "cell_type": "markdown",
   "metadata": {},
   "source": [
    "### Confusion Matrix"
   ]
  },
  {
   "cell_type": "code",
   "execution_count": null,
   "metadata": {},
   "outputs": [],
   "source": []
  }
 ],
 "metadata": {
  "kernelspec": {
   "display_name": "Python 3",
   "language": "python",
   "name": "python3"
  },
  "language_info": {
   "codemirror_mode": {
    "name": "ipython",
    "version": 3
   },
   "file_extension": ".py",
   "mimetype": "text/x-python",
   "name": "python",
   "nbconvert_exporter": "python",
   "pygments_lexer": "ipython3",
   "version": "3.12.1"
  }
 },
 "nbformat": 4,
 "nbformat_minor": 4
}
